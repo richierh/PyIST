{
 "cells": [
  {
   "cell_type": "code",
   "execution_count": 10,
   "metadata": {},
   "outputs": [
    {
     "ename": "TabError",
     "evalue": "inconsistent use of tabs and spaces in indentation (<ipython-input-10-6dbb9b84430a>, line 6)",
     "output_type": "error",
     "traceback": [
      "\u001b[0;36m  File \u001b[0;32m\"<ipython-input-10-6dbb9b84430a>\"\u001b[0;36m, line \u001b[0;32m6\u001b[0m\n\u001b[0;31m    self.number_ver = 1772\u001b[0m\n\u001b[0m                          ^\u001b[0m\n\u001b[0;31mTabError\u001b[0m\u001b[0;31m:\u001b[0m inconsistent use of tabs and spaces in indentation\n"
     ]
    }
   ],
   "source": [
    "import random\n",
    "\n",
    "class Key:\n",
    "\n",
    "\tdef __init__(self, key=''):\n",
    "        self.number_ver = 1772\n",
    "\t\tif key == '':\n",
    "\t\t\tself.key= self.generate()\n",
    "\t\telse:\n",
    "\t\t\tself.key = key.lower()\n",
    "\n",
    "\tdef verify(self):\n",
    "\t\tscore = 0\n",
    "\t\tcheck_digit = self.key[0]\n",
    "\t\tcheck_digit_count = 0\n",
    "\t\tchunks = self.key.split('-')\n",
    "\t\tfor chunk in chunks:\n",
    "\t\t\tif len(chunk) != 4:\n",
    "\t\t\t\treturn False\n",
    "\t\t\tfor char in chunk:\n",
    "\t\t\t\tif char == check_digit:\n",
    "\t\t\t\t\tcheck_digit_count += 1\n",
    "\t\t\t\tscore += ord(char)\n",
    "\t\tif score == self.number_ver and check_digit_count == 5:\n",
    "\t\t\treturn True\n",
    "\t\treturn False\n",
    "\n",
    "\tdef generate(self):\n",
    "\t\tkey = ''\n",
    "\t\tchunk = ''\n",
    "\t\tcheck_digit_count = 0\n",
    "\t\talphabet = 'abcdefghijklmnopqrstuvwxyz1234567890'\n",
    "\t\twhile True:\n",
    "\t\t\twhile len(key) < 25:\n",
    "\t\t\t\tchar = random.choice(alphabet)\n",
    "\t\t\t\tkey += char\n",
    "\t\t\t\tchunk += char\n",
    "\t\t\t\tif len(chunk) == 4:\n",
    "\t\t\t\t\tkey += '-'\n",
    "\t\t\t\t\tchunk = ''\n",
    "\t\t\tkey = key[:-1]\n",
    "\t\t\tif Key(key).verify():\n",
    "\t\t\t\treturn key\n",
    "\t\t\telse:\n",
    "\t\t\t\tkey = ''\n",
    "\n",
    "\tdef __str__(self):\n",
    "\t\tvalid = 'Invalid'\n",
    "\t\tif self.verify():\n",
    "\t\t\tvalid = 'Valid'\n",
    "\t\treturn self.key.upper() + ':' + valid\n",
    "    \n",
    "# key = (\"aaaa-bbbb-cccc-dddd-eeee\")\n",
    "# a = Key(\"aaaa-bbbb-cccc-dddd-eeee\")\n",
    "a = Key()\n",
    "print (a)\n",
    "print (a.verify())"
   ]
  },
  {
   "cell_type": "code",
   "execution_count": 9,
   "metadata": {},
   "outputs": [
    {
     "name": "stdout",
     "output_type": "stream",
     "text": [
      "sdfsdfsf\n"
     ]
    }
   ],
   "source": [
    "print (\"sdfsdfsf\")"
   ]
  },
  {
   "cell_type": "code",
   "execution_count": null,
   "metadata": {},
   "outputs": [],
   "source": []
  }
 ],
 "metadata": {
  "kernelspec": {
   "display_name": "Python 3",
   "language": "python",
   "name": "python3"
  },
  "language_info": {
   "codemirror_mode": {
    "name": "ipython",
    "version": 3
   },
   "file_extension": ".py",
   "mimetype": "text/x-python",
   "name": "python",
   "nbconvert_exporter": "python",
   "pygments_lexer": "ipython3",
   "version": "3.7.4"
  }
 },
 "nbformat": 4,
 "nbformat_minor": 4
}
